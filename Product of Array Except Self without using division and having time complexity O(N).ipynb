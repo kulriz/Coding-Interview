{
 "cells": [
  {
   "cell_type": "markdown",
   "metadata": {},
   "source": [
    "# Question:\n",
    "    Given an array nums of n integers where n > 1,  return an array output such that output[i] is equal to the product of all the elements of nums except nums[i]?\n",
    "    \n",
    "    Constraint: \n",
    "        It's guaranteed that the product of the elements of any prefix or suffix of the array (including the whole array) fits in a 32 bit integer.\n",
    "        \n",
    "    NOTE:\n",
    "    1. Time complexity  : o(n)\n",
    "    2. Space complexity : ----\n",
    "    3. Solve it without division.\n",
    "    \n",
    "# Input/Output\n",
    "    Input:  [1,2,3,4]\n",
    "    Output: [24,12,8,6]"
   ]
  },
  {
   "cell_type": "markdown",
   "metadata": {},
   "source": [
    "# Intuition\n",
    "\n",
    "Initialize two empty arrays, L and R where for a given index i, L[i] would contain the product of all the numbers to the left of i and R[i] would contain the product of all the numbers to the right of i.\n",
    "\n",
    "We would need two different loops to fill in values for the two arrays. For the array L, L[0]L[0] would be 1 since there are no elements to the left of the first element. For the rest of the elements, we simply use L[i] = L[i - 1] * nums[i - 1]L[i]=L[i−1]∗nums[i−1]. \n",
    "\n",
    "Remember that L[i] represents product of all the elements to the left of element at index i.\n",
    "\n",
    "For the other array, we do the same thing but in reverse i.e. we start with the initial value of 1 in R[length - 1]R[length−1] where lengthlength is the number of elements in the array, and keep updating R[i] in reverse. Essentially, R[i] = R[i + 1] * nums[i + 1]R[i]=R[i+1]∗nums[i+1]. \n",
    "\n",
    "Remember that R[i] represents product of all the elements to the right of element at index i.\n",
    "\n",
    "Once we have the two arrays set up properly, we simply iterate over the input array one element at a time, and for each element at index i, we find the product except self as L[i] * R[i]L[i]∗R[i]."
   ]
  },
  {
   "cell_type": "code",
   "execution_count": 4,
   "metadata": {},
   "outputs": [],
   "source": [
    "def productExceptSelf(nums):\n",
    "        k=len(nums)\n",
    "        left_mul=[0]*(k)\n",
    "        right_mul=[0]*(k)\n",
    "        res=[]\n",
    "        left_mul[0]=1\n",
    "        right_mul[k-1]=1\n",
    "        for i in range (1,k,1):\n",
    "            left_mul[i]=(int(left_mul[i-1])*int(nums[i-1]))\n",
    "        for i in range (k-2,-1,-1):\n",
    "            right_mul[i]=(int(right_mul[i+1])*int(nums[i+1]))\n",
    "        right_mul[k-1]=1\n",
    "        for i in range (k):\n",
    "            res.append(left_mul[i] * right_mul[i])\n",
    "        return (res)"
   ]
  },
  {
   "cell_type": "code",
   "execution_count": 6,
   "metadata": {},
   "outputs": [
    {
     "name": "stdout",
     "output_type": "stream",
     "text": [
      "1,2,3,4\n",
      "[24, 12, 8, 6]\n"
     ]
    }
   ],
   "source": [
    "inp=input().split(',')\n",
    "print(productExceptSelf(inp))"
   ]
  },
  {
   "cell_type": "markdown",
   "metadata": {},
   "source": [
    "### Thanks, \n",
    "\n",
    "### Shubham Sagar\n",
    "\n",
    "### DM for any assist: www.instagaram.com/shubhamthrills"
   ]
  }
 ],
 "metadata": {
  "kernelspec": {
   "display_name": "Python 3",
   "language": "python",
   "name": "python3"
  },
  "language_info": {
   "codemirror_mode": {
    "name": "ipython",
    "version": 3
   },
   "file_extension": ".py",
   "mimetype": "text/x-python",
   "name": "python",
   "nbconvert_exporter": "python",
   "pygments_lexer": "ipython3",
   "version": "3.7.4"
  }
 },
 "nbformat": 4,
 "nbformat_minor": 2
}
