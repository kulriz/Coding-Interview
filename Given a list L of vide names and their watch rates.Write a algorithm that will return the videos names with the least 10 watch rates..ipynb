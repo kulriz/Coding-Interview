{
 "cells": [
  {
   "cell_type": "markdown",
   "metadata": {},
   "source": [
    "# Question:\n",
    "    Given a list L of vide names and their watch rates.Write a algorithm that will return the videos names with the least 10    \n",
    "    watch rates?\n",
    "    \n",
    "    NOTE:\n",
    "    1. Video may appers more than once also.\n",
    "## Input/Output:\n",
    "    Input: N=20\n",
    "            abc 10\n",
    "            der 20\n",
    "            ews 02\n",
    "            fee 09\n",
    "            sde 10\n",
    "            cds 20\n",
    "            eev 02\n",
    "            vfs 09\n",
    "            sdv 10\n",
    "            khj 20\n",
    "            tjt 02\n",
    "            yjr 09\n",
    "            tvt 10\n",
    "            fgh 20\n",
    "            rth 02\n",
    "            rht 09\n",
    "            kdh 10\n",
    "            mev 20\n",
    "            jtr 02\n",
    "            rtb 09\n",
    "    Output: ('ews', 2) ('eev', 2) ('tjt', 2) ('rth', 2) ('jtr', 2) ('fee', 9) ('vfs', 9) ('yjr', 9) ('rht', 9) ('rtb', 9)       "
   ]
  },
  {
   "cell_type": "code",
   "execution_count": 2,
   "metadata": {},
   "outputs": [
    {
     "name": "stdout",
     "output_type": "stream",
     "text": [
      "Enter the number of entries:20\n",
      "abc 10\n",
      "der 20\n",
      "ews 02\n",
      "fee 09\n",
      "sde 10\n",
      "cds 20\n",
      "eev 02\n",
      "vfs 09\n",
      "sdv 10\n",
      "khj 20\n",
      "tjt 02\n",
      "yjr 09\n",
      "tvt 10\n",
      "fgh 20\n",
      "rth 02\n",
      "rht 09\n",
      "kdh 10\n",
      "mev 20\n",
      "jtr 02\n",
      "rtb 09\n",
      "('ews', 2) ('eev', 2) ('tjt', 2) ('rth', 2) ('jtr', 2) ('fee', 9) ('vfs', 9) ('yjr', 9) ('rht', 9) ('rtb', 9) "
     ]
    }
   ],
   "source": [
    "n=int(input(\"Enter the number of entries:\"))\n",
    "d={} #Making a empty dictionary\n",
    "for i in range (n):\n",
    "    temp=[] #Making a empty list for temporary input\n",
    "    temp=input().split(' ')\n",
    "    #Seperating the key and value\n",
    "    key=temp[0]\n",
    "    value=int(temp[1])\n",
    "    d[key]=value        #Inputting value in dictionary\n",
    "#print (d)     \n",
    "\n",
    "#Now sorting the dictionary according to value attribute\n",
    "d_sorted=sorted(d.items(),key=lambda kv:kv[1])\n",
    "#print (d_sorted)\n",
    "# Now Printing output according to statement\n",
    "if(n<10):\n",
    "    for i in range (n):\n",
    "        print(d_sorted[i], end=' ')\n",
    "else:\n",
    "    for i in range (10):\n",
    "        print(d_sorted[i], end=' ')"
   ]
  },
  {
   "cell_type": "markdown",
   "metadata": {},
   "source": [
    "### Thanks, \n",
    "\n",
    "### Shubham Sagar\n",
    "\n",
    "### DM for any assist: www.instagaram.com/shubhamthrills"
   ]
  }
 ],
 "metadata": {
  "kernelspec": {
   "display_name": "Python 3",
   "language": "python",
   "name": "python3"
  },
  "language_info": {
   "codemirror_mode": {
    "name": "ipython",
    "version": 3
   },
   "file_extension": ".py",
   "mimetype": "text/x-python",
   "name": "python",
   "nbconvert_exporter": "python",
   "pygments_lexer": "ipython3",
   "version": "3.7.4"
  }
 },
 "nbformat": 4,
 "nbformat_minor": 2
}
