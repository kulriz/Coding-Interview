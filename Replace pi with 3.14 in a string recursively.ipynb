{
 "cells": [
  {
   "cell_type": "markdown",
   "metadata": {},
   "source": [
    "## QUESTION\n",
    "Given a string,Compute recursively a new string where all appearances of \"pi\" have been replaced by \"3.14\"?\n",
    "\n",
    "## Sample Input / Output\n",
    "Input: xpix\n",
    "Output: x3.14x"
   ]
  },
  {
   "cell_type": "code",
   "execution_count": 8,
   "metadata": {},
   "outputs": [],
   "source": [
    "def ConvertPi(s,l):\n",
    "    if(l==0):\n",
    "        return s\n",
    "    elif(s[l]=='i' and s[l-1]=='p'):\n",
    "        s[l-1]='3.14'\n",
    "        s.pop(l)\n",
    "        return ConvertPi(s,l-2)\n",
    "    else:\n",
    "        return ConvertPi(s,l-1)"
   ]
  },
  {
   "cell_type": "code",
   "execution_count": 12,
   "metadata": {},
   "outputs": [
    {
     "name": "stdout",
     "output_type": "stream",
     "text": [
      "Enter the string:xpix\n",
      "Modifided string: x3.14x\n"
     ]
    }
   ],
   "source": [
    "li=[]\n",
    "l2=[]\n",
    "n=input(\"Enter the string:\")\n",
    "li=list(n)\n",
    "length=len(li)\n",
    "l2=ConvertPi(li,(length-1))\n",
    "str=\" \"\n",
    "str=''.join(l2)\n",
    "print(\"Modifided string:\",str)"
   ]
  },
  {
   "cell_type": "markdown",
   "metadata": {},
   "source": [
    "### Thanks, \n",
    "\n",
    "### Shubham Sagar\n",
    "\n",
    "### DM for any assist: www.instagaram.com/shubhamthrills"
   ]
  }
 ],
 "metadata": {
  "kernelspec": {
   "display_name": "Python 3",
   "language": "python",
   "name": "python3"
  },
  "language_info": {
   "codemirror_mode": {
    "name": "ipython",
    "version": 3
   },
   "file_extension": ".py",
   "mimetype": "text/x-python",
   "name": "python",
   "nbconvert_exporter": "python",
   "pygments_lexer": "ipython3",
   "version": "3.7.4"
  }
 },
 "nbformat": 4,
 "nbformat_minor": 2
}
