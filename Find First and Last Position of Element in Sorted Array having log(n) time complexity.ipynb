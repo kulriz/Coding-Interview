{
 "cells": [
  {
   "cell_type": "markdown",
   "metadata": {},
   "source": [
    "# Question:\n",
    "    Given an array of integers nums sorted in ascending order, find the starting and ending position of a given target value.\n",
    "\n",
    "Your algorithm's runtime complexity must be in the order of O(log n).\n",
    "\n",
    "If the target is not found in the array, return [-1, -1].\n",
    "\n",
    "        \n",
    "    NOTE:\n",
    "    1. Time complexity  : O(log n)\n",
    "    2. Space complexity : --------\n",
    "    3. If the target is not found in the array, return [-1, -1].\n",
    "    \n",
    "# Input/Output\n",
    "    Input: nums = [5,7,7,8,8,10], target = 8\n",
    "    Output: [3,4]\n",
    "    \n",
    "    Input: nums = [5,7,7,8,8,10], target = 6\n",
    "    Output: [-1,-1]"
   ]
  },
  {
   "cell_type": "markdown",
   "metadata": {},
   "source": [
    "# Intuition\n",
    "\n",
    "#### Approach 1: Linear Scan\n",
    "Intuition\n",
    "\n",
    "Checking every index for target exhausts the search space, so it must work.\n",
    "\n",
    "Algorithm\n",
    "\n",
    "First, we do a linear scan of nums from the left, breaking when we find an instance of target. If we never break, then target is not present, so we can return the \"error code\" of [-1, -1] early. Given that we did find a valid left index, we can do a second linear scan, but this time from the right. In this case, the first instance of target encountered will be the rightmost one (and because a leftmost one exists, there is guaranteed to also be a rightmost one). We then simply return a list containing the two located indices.\n",
    "\n",
    "#### Approach 2: Binary Search\n",
    "Intuition\n",
    "\n",
    "Because the array is sorted, we can use binary search to locate the left and rightmost indices.\n",
    "\n",
    "Algorithm\n",
    "\n",
    "The overall algorithm works fairly similarly to the linear scan approach, except for the subroutine used to find the left and rightmost indices themselves. Here, we use a modified binary search to search a sorted array, with a few minor adjustments. First, because we are locating the leftmost (or rightmost) index containing target (rather than returning true iff we find target), the algorithm does not terminate as soon as we find a match. Instead, we continue to search until lo == hi and they contain some index at which target can be found.\n",
    "\n",
    "The other change is the introduction of the left parameter, which is a boolean indicating what to do in the event that target == nums[mid]; if left is true, then we \"recurse\" on the left subarray on ties. Otherwise, we go right. To see why this is correct, consider the situation where we find target at index i. The leftmost target cannot occur at any index greater than i, so we never need to consider the right subarray. The same argument applies to the rightmost index.\n",
    "\n",
    "\n",
    "Now Suppose for 3\n"
   ]
  },
  {
   "cell_type": "markdown",
   "metadata": {},
   "source": [
    "![title](bs001.png)\n",
    "![title](bs002.png)"
   ]
  },
  {
   "cell_type": "code",
   "execution_count": 5,
   "metadata": {},
   "outputs": [],
   "source": [
    "def find_left_boundary(a, key):\n",
    "        lo, hi = 0, len(a) - 1\n",
    "\n",
    "        while lo <= hi:\n",
    "            mid = lo + (hi - lo) // 2\n",
    "            if key <= a[mid]:\n",
    "                hi = mid - 1\n",
    "            else:\n",
    "                lo = mid + 1\n",
    "\n",
    "        return lo if 0 <= lo < len(a) and a[lo] == key else -1\n",
    "        \n",
    "def find_right_boundary(a, key):\n",
    "        lo, hi = 0, len(a) - 1\n",
    "\n",
    "        while lo <= hi:\n",
    "            mid = lo + (hi - lo) // 2\n",
    "            if key < a[mid]:\n",
    "                hi = mid - 1\n",
    "            else:\n",
    "                lo = mid + 1\n",
    "\n",
    "        return hi if 0 <= hi < len(a) and a[hi] == key else -1\n",
    "\n",
    "def searchRange(a, key):\n",
    "        return [find_left_boundary(a, key),find_right_boundary(a, key)]"
   ]
  },
  {
   "cell_type": "raw",
   "metadata": {},
   "source": [
    "# Complexity :O(n) [Time and space both]\n",
    "class Solution:\n",
    "    def searchRange(self, nums, target):\n",
    "        # find the index of the leftmost appearance of `target`. if it does not\n",
    "        # appear, return [-1, -1] early.\n",
    "        for i in range(len(nums)):\n",
    "            if nums[i] == target:\n",
    "                left_idx = i\n",
    "                break\n",
    "        else:\n",
    "            return [-1, -1]\n",
    "\n",
    "        # find the index of the rightmost appearance of `target` (by reverse\n",
    "        # iteration). it is guaranteed to appear.\n",
    "        for j in range(len(nums)-1, -1, -1):\n",
    "            if nums[j] == target:\n",
    "                right_idx = j\n",
    "                break\n",
    "\n",
    "        return [left_idx, right_idx]"
   ]
  },
  {
   "cell_type": "code",
   "execution_count": 6,
   "metadata": {},
   "outputs": [
    {
     "name": "stdout",
     "output_type": "stream",
     "text": [
      "Array Input:5,7,7,8,8,10\n",
      "Target:8\n",
      "[3, 4]\n"
     ]
    }
   ],
   "source": [
    "inp=input(\"Array Input:\").split(',')\n",
    "k=int(input(\"Target:\"))\n",
    "for i in range (len(inp)):\n",
    "    inp[i]=int(inp[i])\n",
    "print(searchRange(inp,k))"
   ]
  },
  {
   "cell_type": "code",
   "execution_count": 7,
   "metadata": {},
   "outputs": [
    {
     "name": "stdout",
     "output_type": "stream",
     "text": [
      "Array Input:5,7,7,8,8,10\n",
      "Target:6\n",
      "[-1, -1]\n"
     ]
    }
   ],
   "source": [
    "inp=input(\"Array Input:\").split(',')\n",
    "k=int(input(\"Target:\"))\n",
    "for i in range (len(inp)):\n",
    "    inp[i]=int(inp[i])\n",
    "print(searchRange(inp,k))"
   ]
  },
  {
   "cell_type": "markdown",
   "metadata": {},
   "source": [
    "### Thanks, \n",
    "\n",
    "### Shubham Sagar\n",
    "\n",
    "### DM for any assist: www.instagaram.com/shubhamthrills"
   ]
  }
 ],
 "metadata": {
  "kernelspec": {
   "display_name": "Python 3",
   "language": "python",
   "name": "python3"
  },
  "language_info": {
   "codemirror_mode": {
    "name": "ipython",
    "version": 3
   },
   "file_extension": ".py",
   "mimetype": "text/x-python",
   "name": "python",
   "nbconvert_exporter": "python",
   "pygments_lexer": "ipython3",
   "version": "3.7.4"
  }
 },
 "nbformat": 4,
 "nbformat_minor": 2
}
