{
 "cells": [
  {
   "cell_type": "markdown",
   "metadata": {},
   "source": [
    "# Question:\n",
    "    Determine whether an integer is a palindrome. An integer is a palindrome when it reads the same backward as forward?\n",
    "    \n",
    "    1. Without making the copy of number.\n",
    "    2. Time complexity  : O(log(n)) or o(n)\n",
    "    3. Space complexity : O(1)"
   ]
  },
  {
   "cell_type": "markdown",
   "metadata": {},
   "source": [
    "Intuition\n",
    "\n",
    "The first idea that comes to mind is to convert the number into string, and check if the string is a palindrome, \n",
    "but this would require extra non-constant space for creating the string which is not allowed by the problem description.\n",
    "\n",
    "Second idea would be reverting the number itself, and then compare the number with original number, \n",
    "if they are the same, then the number is a palindrome. However, if the reversed number is larger than {int.MAX}int.MAX, \n",
    "we will hit integer overflow problem.\n",
    "\n",
    "\n",
    "Following the thoughts based on the second idea, to avoid the overflow issue of the reverted number, \n",
    "what if we only revert half of the {int}int number? \n",
    "After all, the reverse of the last half of the palindrome should be the same as the first half of the number,\n",
    "if the number is a palindrome.\n",
    "\n",
    "For example, \n",
    "if the input is 1221, if we can revert the last part of the number \"1221\" from \"21\" to \"12\", \n",
    "and compare it with the first half of the number \"12\", since 12 is the same as 12, \n",
    "we know that the number is a palindrome."
   ]
  },
  {
   "cell_type": "code",
   "execution_count": 1,
   "metadata": {},
   "outputs": [
    {
     "name": "stdout",
     "output_type": "stream",
     "text": [
      "Enter the Integer:-121\n",
      "NOT PALINDROM\n"
     ]
    }
   ],
   "source": [
    "r=0\n",
    "n=int(input(\"Enter the Integer:\"))\n",
    "if(n<0 or (n%10==0 and n != 0)):    \n",
    "    #Special Case Whwn number is negative then it will never be palindrom and \n",
    "    #if the last digit of the number is 0, in order to be a palindrome,\n",
    "    #the first digit of the number also needs to be 0.Only 0 satisfy this property.\n",
    "    print (\"NOT PALINDROM\")\n",
    "else:\n",
    "    while(n>r):\n",
    "        r=(r*10 + n%10)\n",
    "        n=n//10\n",
    "    if((n==r) or (n==int(r/10))):\n",
    "        #When the length is an odd number, we can get rid of the middle digit by reverse/10\n",
    "        #For example when the input is 12321, at the end of the while loop we get n=12, reverse=123,\n",
    "        #since the middle digit doesn't matter in palidrome(it will always equal to itself), we can simply get rid of it.\n",
    "        print(\"PALINDROM\")\n",
    "    else:\n",
    "        print(\"NOT PALINDROM\")\n",
    "        "
   ]
  },
  {
   "cell_type": "markdown",
   "metadata": {},
   "source": [
    "### Thanks, \n",
    "\n",
    "### Shubham Sagar\n",
    "\n",
    "### DM for any assist: www.instagaram.com/shubhamthrills"
   ]
  }
 ],
 "metadata": {
  "kernelspec": {
   "display_name": "Python 3",
   "language": "python",
   "name": "python3"
  },
  "language_info": {
   "codemirror_mode": {
    "name": "ipython",
    "version": 3
   },
   "file_extension": ".py",
   "mimetype": "text/x-python",
   "name": "python",
   "nbconvert_exporter": "python",
   "pygments_lexer": "ipython3",
   "version": "3.7.4"
  }
 },
 "nbformat": 4,
 "nbformat_minor": 2
}
