{
 "cells": [
  {
   "cell_type": "markdown",
   "metadata": {},
   "source": [
    "# Question:\n",
    "    Given an array of integers, 1 ≤ a[i] ≤ n (n = size of array), some elements appear twice and others appear once.\n",
    "    Find all the elements that appear twice in this array?\n",
    "    \n",
    "    NOTE:\n",
    "    1. Time complexity  : o(n)\n",
    "    2. Space complexity : O(1)\n",
    "    3. Output Array/List will be provided.\n",
    "    \n",
    "# Input/Output\n",
    "    Input :[4,3,2,7,8,2,3,1]\n",
    "    Output:[2,3]"
   ]
  },
  {
   "cell_type": "markdown",
   "metadata": {},
   "source": [
    "# Intuition\n",
    "Since we have to return the duplicate value in linear time complexity so a small observation can help us to solve this problem.\n",
    "\n",
    "Since this condition (1 ≤ a[i] ≤ n (n = size of array)) is provided so maximum value of element will be size i.e, 8 inn this case and minimum value can be 1 and which is equal to -1 of the index.\n",
    "\n",
    "Step 1: Go through the list element wise element.\n",
    "Step 2: Subtract 1 from the element value.\n",
    "Step 3: Then move that index and multiply that number with -1.\n",
    "Step 4: Repeat this till last element and if index value found to be negative then that elemnt is already present in the array.\n",
    "\n",
    "In above example:\n",
    "\n",
    "At i=0 list will be [4,3,2,-7,8,2,3,1]   because abs(4)-1=3 and at index 3 we have 7 so we will multiply it by -1.\n",
    "\n",
    "At i=1 list will be [4,3,-2,-7,8,2,3,1]   because abs(3)-1=2 and at index 2 we have 2 so we will multiply it by -1.\n",
    "\n",
    "At i=2 list will be [4,-3,-2,-7,8,2,3,1]   because abs(-2)-1=1 and at index 1 we have 3 so we will multiply it by -1.\n",
    "\n",
    "At i=3 list will be [4,-3,-2,-7,8,2,-3,1]   because abs(-7)-1=6 and at index 6 we have 3 so we will multiply it by -1.\n",
    "\n",
    "At i=4 list will be [4,-3,-2,-7,8,2,-3,-1]   because abs(8)-1=7 and at index 7 we have 1 so we will multiply it by -1.\n",
    "\n",
    "At i=5 list will be [4,-3,-2,-7,8,2,-3,-1]   because abs(2)-1=1 and at index 1 we have -3 since it is already -ve so same element is already present so we will append 2 in output list/array which is provided.\n",
    "\n",
    "At i=6 list will be [4,-3,-2,-7,8,2,-3,-1]   because abs(-3)-1=2 and at index 2 we have -2 since it is already -ve so same element is already present so we will append 3 in output list/array which is provided.\n",
    "\n",
    "At i=7 list will be [-4,-3,-2,-7,8,2,-3,-1]   because abs(-1)-1=0 and at index 0 we have 4 so we will multiply it by -1."
   ]
  },
  {
   "cell_type": "code",
   "execution_count": 3,
   "metadata": {},
   "outputs": [],
   "source": [
    "def duplicate(inp,res):\n",
    "    for i in range (len(inp)):\n",
    "        index=abs(int(inp[i]))-1\n",
    "        if(int(inp[index])<0):\n",
    "            res.append(index +1)\n",
    "        inp[index]=(-1)*int(inp[index])\n",
    "    return (res)"
   ]
  },
  {
   "cell_type": "code",
   "execution_count": 4,
   "metadata": {},
   "outputs": [
    {
     "name": "stdout",
     "output_type": "stream",
     "text": [
      "4,3,2,7,8,2,3,1\n",
      "[2, 3]\n"
     ]
    }
   ],
   "source": [
    "inp=input().split(',')\n",
    "res=[]\n",
    "print(duplicate(inp,res))"
   ]
  },
  {
   "cell_type": "markdown",
   "metadata": {},
   "source": [
    "### Thanks, \n",
    "\n",
    "### Shubham Sagar\n",
    "\n",
    "### DM for any assist: www.instagaram.com/shubhamthrills"
   ]
  }
 ],
 "metadata": {
  "kernelspec": {
   "display_name": "Python 3",
   "language": "python",
   "name": "python3"
  },
  "language_info": {
   "codemirror_mode": {
    "name": "ipython",
    "version": 3
   },
   "file_extension": ".py",
   "mimetype": "text/x-python",
   "name": "python",
   "nbconvert_exporter": "python",
   "pygments_lexer": "ipython3",
   "version": "3.7.4"
  }
 },
 "nbformat": 4,
 "nbformat_minor": 2
}
