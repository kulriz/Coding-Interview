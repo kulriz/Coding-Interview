{
 "cells": [
  {
   "cell_type": "markdown",
   "metadata": {},
   "source": [
    "# Question:\n",
    "    Given a non-empty array of integers, every element appears twice except for one. Find that single one.\n",
    "        \n",
    "    NOTE:\n",
    "    1. Time complexity  : O(n)\n",
    "    2. Space complexity : ---\n",
    "    \n",
    "# Input/Output\n",
    "    Input: [2,2,1]\n",
    "    Output: 1\n",
    "    \n",
    "    Input: [4,1,2,1,2]\n",
    "    Output: 4\n",
    "\n",
    "###### Leetcode(Problem Number: 136) (https://leetcode.com/problems/single-number/) "
   ]
  },
  {
   "cell_type": "markdown",
   "metadata": {},
   "source": [
    "## Approach: Hash Table\n",
    "\n",
    "We use hash table to avoid the O(n) time required for searching the elements.\n",
    "\n",
    "##### STEP 1: Iterate through all elements in numbers and set up key/value pair.\n",
    "##### STEP 2: Return the element which appeared only once.\n"
   ]
  },
  {
   "cell_type": "code",
   "execution_count": 14,
   "metadata": {},
   "outputs": [],
   "source": [
    "def NonRepeatingElement(numbers):\n",
    "    d=dict()\n",
    "    for i in range (len(numbers)):\n",
    "        if numbers[i] in d:\n",
    "            d[numbers[i]] +=1\n",
    "        else:\n",
    "            d[numbers[i]] =1\n",
    "    sorted_d=sorted(d.items(),key=lambda kv : kv[1])\n",
    "    return(sorted_d[0][0])"
   ]
  },
  {
   "cell_type": "code",
   "execution_count": 16,
   "metadata": {},
   "outputs": [
    {
     "name": "stdout",
     "output_type": "stream",
     "text": [
      "Array Input:4 1 2 1 2\n",
      "4\n"
     ]
    }
   ],
   "source": [
    "inp=map(int , input(\"Array Input:\").split(' '))\n",
    "inp=list(inp)\n",
    "print(NonRepeatingElement(inp))"
   ]
  },
  {
   "cell_type": "markdown",
   "metadata": {},
   "source": [
    "### Thanks, \n",
    "\n",
    "### Shubham Sagar\n",
    "\n",
    "### DM for any assist: www.instagaram.com/shubhamthrills  or www.github.com/shubhamthrills"
   ]
  }
 ],
 "metadata": {
  "kernelspec": {
   "display_name": "Python 3",
   "language": "python",
   "name": "python3"
  },
  "language_info": {
   "codemirror_mode": {
    "name": "ipython",
    "version": 3
   },
   "file_extension": ".py",
   "mimetype": "text/x-python",
   "name": "python",
   "nbconvert_exporter": "python",
   "pygments_lexer": "ipython3",
   "version": "3.7.4"
  }
 },
 "nbformat": 4,
 "nbformat_minor": 2
}
