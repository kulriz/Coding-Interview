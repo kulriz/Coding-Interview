{
 "cells": [
  {
   "cell_type": "markdown",
   "metadata": {},
   "source": [
    "# Question:\n",
    "    Write an algorithm to determine if a number is \"happy\".\n",
    "\n",
    "    A happy number is a number defined by the following process: Starting with any positive integer, replace the number by the sum of the squares of its digits, and repeat the process until the number equals 1 (where it will stay), or it loops endlessly in a cycle which does not include 1. Those numbers for which this process ends in 1 are happy numbers.\n",
    "    \n",
    "    NOTE:\n",
    "    1. Time complexity  : ---\n",
    "    2. Space complexity : ---\n",
    "    \n",
    "# Input/Output\n",
    "    Input: 19\n",
    "    Output: true\n",
    "    Explanation: \n",
    "    12 + 92 = 82\n",
    "    82 + 22 = 68\n",
    "    62 + 82 = 100\n",
    "    12 + 02 + 02 = 1\n",
    "\n",
    "###### Leetcode(Problem Number: 202) (https://leetcode.com/problems/happy-number/) "
   ]
  },
  {
   "cell_type": "code",
   "execution_count": 6,
   "metadata": {},
   "outputs": [],
   "source": [
    "def isHappy(n):\n",
    "    dic = {}\n",
    "    while n:\n",
    "        if 1 in dic:\n",
    "            return 'true'\n",
    "        if n in dic:\n",
    "            return 'false'\n",
    "        dic[n] = 0\n",
    "        tmp = 0\n",
    "        while n:\n",
    "            tmp += (n%10)**2\n",
    "            n //= 10\n",
    "        n = tmp"
   ]
  },
  {
   "cell_type": "code",
   "execution_count": 9,
   "metadata": {},
   "outputs": [
    {
     "name": "stdout",
     "output_type": "stream",
     "text": [
      "19\n",
      "true\n"
     ]
    }
   ],
   "source": [
    "inp=int(input())\n",
    "print(isHappy(inp))"
   ]
  },
  {
   "cell_type": "markdown",
   "metadata": {},
   "source": [
    "### Thanks, \n",
    "\n",
    "### Shubham Sagar\n",
    "\n",
    "### DM for any assist: www.instagaram.com/shubhamthrills  or www.github.com/shubhamthrills"
   ]
  }
 ],
 "metadata": {
  "kernelspec": {
   "display_name": "Python 3",
   "language": "python",
   "name": "python3"
  },
  "language_info": {
   "codemirror_mode": {
    "name": "ipython",
    "version": 3
   },
   "file_extension": ".py",
   "mimetype": "text/x-python",
   "name": "python",
   "nbconvert_exporter": "python",
   "pygments_lexer": "ipython3",
   "version": "3.7.4"
  }
 },
 "nbformat": 4,
 "nbformat_minor": 2
}
