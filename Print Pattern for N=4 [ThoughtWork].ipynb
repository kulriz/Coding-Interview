{
 "cells": [
  {
   "cell_type": "markdown",
   "metadata": {},
   "source": [
    "# Question:\n",
    "    Print following pattern for (N=4)\n",
    "   ### 4 4 4 4 4 4 4\n",
    "   ### 4 3 3 3 3 3 4\n",
    "   ### 4 3 2 2 2 3 4\n",
    "   ### 4 3 2 1 2 3 4\n",
    "   ### 4 3 2 2 2 3 4\n",
    "   ### 4 3 3 3 3 3 4\n",
    "   ### 4 4 4 4 4 4 4\n",
    " \n",
    " ##### (ThoughtWorks)"
   ]
  },
  {
   "cell_type": "code",
   "execution_count": 7,
   "metadata": {},
   "outputs": [
    {
     "name": "stdout",
     "output_type": "stream",
     "text": [
      "Enter the Starting value:4\n",
      "4 4 4 4 4 4 4 \n",
      "4 3 3 3 3 3 4 \n",
      "4 3 2 2 2 3 4 \n",
      "4 3 2 1 2 3 4 \n",
      "4 3 2 2 2 3 4 \n",
      "4 3 3 3 3 3 4 \n",
      "4 4 4 4 4 4 4 \n"
     ]
    }
   ],
   "source": [
    "n=int(input(\"Enter the Starting value:\"))\n",
    "for i in range (0,(2*n)-1,1):\n",
    "    for j in range (0,(2*n)-1,1):\n",
    "        print((1+ max(abs(n-i-1),abs(n-j-1))), end=\" \")\n",
    "    print()\n",
    "    "
   ]
  },
  {
   "cell_type": "markdown",
   "metadata": {},
   "source": [
    "### Thanks, \n",
    "\n",
    "### Shubham Sagar\n",
    "\n",
    "### DM for any assist: www.instagaram.com/shubhamthrills"
   ]
  }
 ],
 "metadata": {
  "kernelspec": {
   "display_name": "Python 3",
   "language": "python",
   "name": "python3"
  },
  "language_info": {
   "codemirror_mode": {
    "name": "ipython",
    "version": 3
   },
   "file_extension": ".py",
   "mimetype": "text/x-python",
   "name": "python",
   "nbconvert_exporter": "python",
   "pygments_lexer": "ipython3",
   "version": "3.7.4"
  }
 },
 "nbformat": 4,
 "nbformat_minor": 2
}
