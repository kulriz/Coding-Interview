{
 "cells": [
  {
   "cell_type": "markdown",
   "metadata": {},
   "source": [
    "# Question:\n",
    "    Given an array of integers and an integer k, you need to find the total number of continuous subarrays whose sum equals to k.\n",
    "        \n",
    "    NOTE:\n",
    "    1. Time complexity  : o(n^2)\n",
    "    2. Space complexity : o(n)\n",
    "    3. The length of the array is in range [1, 20,000].\n",
    "    4. The range of numbers in the array is [-1000, 1000] and the range of the integer k is [-1e7, 1e7].\n",
    "    \n",
    "# Input/Output\n",
    "    Input:nums = [1,1,1], k = 2\n",
    "    Output: 2"
   ]
  },
  {
   "cell_type": "markdown",
   "metadata": {},
   "source": [
    "# Intuition\n",
    "\n",
    "Instead of determining the sum of elements everytime for every new subarray considered, we can make use of a cumulative sum array , sumsum. Then, in order to calculate the sum of elements lying between two indices, we can subtract the cumulative sum corresponding to the two indices to obtain the sum directly, instead of iterating over the subarray to obtain the sum.\n",
    "\n",
    "In this implementation, we make use of a cumulative sum array, sumsum, such that sum[i]sum[i] is used to store the cumulative sum of numsnums array upto the element corresponding to the (i-1)^{th}(i−1) \n",
    "th\n",
    "  index. Thus, to determine the sum of elements for the subarray nums[i:j]nums[i:j], we can directly use sum[j+1] - sum[i]sum[j+1]−sum[i]."
   ]
  },
  {
   "cell_type": "code",
   "execution_count": 21,
   "metadata": {},
   "outputs": [],
   "source": [
    "def subarraySum(nums,k):\n",
    "    count=0\n",
    "    ll=len(nums)\n",
    "    summ = [0]*(ll+1)\n",
    "    summ.append(0)\n",
    "    for i in range (1,ll+1,1):\n",
    "        summ[i] = summ[i - 1] + nums[i - 1]\n",
    "    for i in range (0,ll,1):\n",
    "        for j in range (i+1,ll+1,1):\n",
    "            if (summ[j] - summ[i] == k):\n",
    "                count+=1\n",
    "    return (count)"
   ]
  },
  {
   "cell_type": "code",
   "execution_count": 22,
   "metadata": {},
   "outputs": [
    {
     "name": "stdout",
     "output_type": "stream",
     "text": [
      "1,1,1\n",
      "2\n",
      "2\n"
     ]
    }
   ],
   "source": [
    "inp=input().split(',')\n",
    "k=int(input())\n",
    "for i in range (len(inp)):\n",
    "    inp[i]=int(inp[i])\n",
    "print(subarraySum(inp,k))"
   ]
  },
  {
   "cell_type": "raw",
   "metadata": {},
   "source": [
    "## Alternet Way\n",
    "\n",
    "class Solution:\n",
    "    def subarraySum(self, nums, k):\n",
    "        preSums = {0: 1}\n",
    "        s = 0\n",
    "        result = 0\n",
    "        for i in nums:\n",
    "            s += i\n",
    "            result += preSums.get(s - k, 0)\n",
    "            preSums[s] = preSums.get(s, 0) + 1\n",
    "        return result"
   ]
  },
  {
   "cell_type": "markdown",
   "metadata": {},
   "source": [
    "### Thanks, \n",
    "\n",
    "### Shubham Sagar\n",
    "\n",
    "### DM for any assist: www.instagaram.com/shubhamthrills"
   ]
  }
 ],
 "metadata": {
  "kernelspec": {
   "display_name": "Python 3",
   "language": "python",
   "name": "python3"
  },
  "language_info": {
   "codemirror_mode": {
    "name": "ipython",
    "version": 3
   },
   "file_extension": ".py",
   "mimetype": "text/x-python",
   "name": "python",
   "nbconvert_exporter": "python",
   "pygments_lexer": "ipython3",
   "version": "3.7.4"
  }
 },
 "nbformat": 4,
 "nbformat_minor": 2
}
