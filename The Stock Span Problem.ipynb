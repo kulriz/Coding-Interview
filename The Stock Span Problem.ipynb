{
 "cells": [
  {
   "cell_type": "markdown",
   "metadata": {},
   "source": [
    "# Question:\n",
    "    The span si of a stock’s price on a certain day i is the minimum number of consecutive days (up to the current day) the price of the stock has been less than its price on that ith day. If for a particular day, if no stock price is greater then just count the number of days till 0th day including current day.\n",
    "    \n",
    "    \n",
    "    NOTE:\n",
    "    1. Time Complexity : O(N) and O(N^2) [Both]\n",
    "    2. Space Complexity: O(N)\n",
    "## Input/Output:\n",
    "    Given an input array with all stock prices,we need to return the array with corresponding spans of each day row(R-1)\n",
    "    Input:  60 70 80 100 90 75 80 129\n",
    "    Output: 1 2 3 4 1 1 2 8       "
   ]
  },
  {
   "cell_type": "markdown",
   "metadata": {},
   "source": [
    "It is a stock span problem is a financial problem where we have a series of n daily price quotes for a stock and we need to calculate span of stock’s price for all n days.\n",
    "The span Si of the stock’s price on a given day i is defined as the maximum number of consecutive days just before the given day, for which the price of the stock on the current day is less than or equal to its price on the given day.\n",
    "For example, if an array of 7 days prices is given as {100, 80, 60, 70, 60, 75, 85}, then the span values for corresponding 7 days are {1, 1, 1, 2, 1, 4, 6}"
   ]
  },
  {
   "cell_type": "markdown",
   "metadata": {},
   "source": [
    "![title](stock_span.png)"
   ]
  },
  {
   "cell_type": "code",
   "execution_count": 6,
   "metadata": {},
   "outputs": [
    {
     "name": "stdout",
     "output_type": "stream",
     "text": [
      "60 70 80 100 90 75 80 129\n",
      "1 2 3 4 1 1 2 8 "
     ]
    }
   ],
   "source": [
    "# COMPLEXITY : o(n^2)\n",
    "# -------------------\n",
    "\n",
    "def Span(price, n, S):\n",
    "    S[0] = 1\n",
    "    for i in range(1, n, 1):\n",
    "        S[i] = 1 #Initialize span value \n",
    "        #Traverse left while the next element on left is \n",
    "        #smaller than price[i] \n",
    "        j = i - 1\n",
    "        while (j>= 0) and (int(price[i]) >= int (price[j])) :\n",
    "            S[i] += 1\n",
    "            j -= 1\n",
    "#Print elements of array \n",
    "def res(arr, n):\n",
    "    for i in range(n): \n",
    "        print(arr[i], end = \" \") \n",
    "price=[]\n",
    "price=input().split(' ')\n",
    "n = len(price) \n",
    "S = [None] * n \n",
    "Span(price,n,S)  \n",
    "res(S,n) "
   ]
  },
  {
   "cell_type": "code",
   "execution_count": 13,
   "metadata": {},
   "outputs": [
    {
     "name": "stdout",
     "output_type": "stream",
     "text": [
      "60 70 80 100 90 75 80 129\n",
      "1 2 3 4 1 1 2 8 "
     ]
    }
   ],
   "source": [
    "# COMPLEXITY : o(n)\n",
    "# -------------------\n",
    "def Span(price, S):   \n",
    "    n = len(price)  \n",
    "    st = []  \n",
    "    st.append(0) \n",
    "    S[0] = 1   #Span value of first element is always 1  \n",
    "    for i in range(1, n):   #Calculating span values for rest of the elements\n",
    "        #Pop elements from stack whlie stack is not empty and top of stack is smaller than price[i] \n",
    "        while( len(st) > 0 and int(price[st[-1]]) <= int(price[i])): \n",
    "            st.pop() \n",
    "  \n",
    "        # If stack becomes empty, then price[i] is greater than all elements on left of it.\n",
    "        # i.e. price[0],price[1], ..price[i-1]. Else the price[i] is greater than elements after top of stack \n",
    "        S[i] = i + 1 if len(st) <= 0 else (i - st[-1])  \n",
    "        st.append(i) \n",
    "        \n",
    "def res(arr, n): \n",
    "    for i in range(0, n): \n",
    "        print (arr[i], end =\" \") \n",
    "  \n",
    "  \n",
    "price=[]\n",
    "price=input().split(' ')\n",
    "S = [0 for i in range(len(price)+1)] \n",
    "Span(price, S) \n",
    "res(S, len(price))"
   ]
  },
  {
   "cell_type": "markdown",
   "metadata": {},
   "source": [
    "### Thanks, \n",
    "\n",
    "### Shubham Sagar\n",
    "\n",
    "### DM for any assist: www.instagaram.com/shubhamthrills"
   ]
  }
 ],
 "metadata": {
  "kernelspec": {
   "display_name": "Python 3",
   "language": "python",
   "name": "python3"
  },
  "language_info": {
   "codemirror_mode": {
    "name": "ipython",
    "version": 3
   },
   "file_extension": ".py",
   "mimetype": "text/x-python",
   "name": "python",
   "nbconvert_exporter": "python",
   "pygments_lexer": "ipython3",
   "version": "3.7.4"
  }
 },
 "nbformat": 4,
 "nbformat_minor": 2
}
