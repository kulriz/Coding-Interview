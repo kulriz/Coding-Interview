{
 "cells": [
  {
   "cell_type": "markdown",
   "metadata": {},
   "source": [
    "# Question:\n",
    "    Given an array of integers, return indices of the two numbers such that they add up to a specific target.\n",
    "\n",
    "        \n",
    "    NOTE:\n",
    "    1. Time complexity  : o(n^2) and o(n)[BOTH]\n",
    "    2. Space complexity : o(1)   and o(n)[BOTH]\n",
    "    3. we may assume that each input would have exactly one solution, and you may not use the same element twice.\n",
    "    \n",
    "# Input/Output\n",
    "    Input: [2, 7, 11, 15], target = 9,\n",
    "    Output:[0, 1]\n",
    "    Because nums[0] + nums[1] = 2 + 7 = 9"
   ]
  },
  {
   "cell_type": "markdown",
   "metadata": {},
   "source": [
    "# Intuition\n",
    "\n",
    "#### Approach 1: Brute Force\n",
    "The brute force approach is simple. Loop through each element xx and find if there is another value that equals to target - xtarget−x.\n",
    "\n",
    "#### Approach 2: Two-pass Hash Table\n",
    "To improve our run time complexity, we need a more efficient way to check if the complement exists in the array. If the complement exists, we need to look up its index. What is the best way to maintain a mapping of each element in the array to its index? A hash table.\n",
    "\n",
    "We reduce the look up time from O(n)O(n) to O(1)O(1) by trading space for speed. A hash table is built exactly for this purpose, it supports fast look up in near constant time. I say \"near\" because if a collision occurred, a look up could degenerate to O(n)O(n) time. But look up in hash table should be amortized O(1)O(1) time as long as the hash function was chosen carefully.\n",
    "\n",
    "A simple implementation uses two iterations. In the first iteration, we add each element's value and its index to the table. Then, in the second iteration we check if each element's complement (target - nums[i]target−nums[i]) exists in the table. Beware that the complement must not be nums[i]nums[i] itself!"
   ]
  },
  {
   "cell_type": "code",
   "execution_count": 4,
   "metadata": {},
   "outputs": [],
   "source": [
    "#Complexity :O(n^2) [Time] and O(1)[Space]\n",
    "def twoSum1(nums,target):\n",
    "    for i in range (len(nums)):\n",
    "        for j in range(i+1,len(nums),1):\n",
    "            if (nums[j] == target - nums[i]):\n",
    "                return ([i,j])"
   ]
  },
  {
   "cell_type": "code",
   "execution_count": 1,
   "metadata": {},
   "outputs": [],
   "source": [
    "#Complexity :O(n) [Time and space both]\n",
    "def twoSum(nums,target):\n",
    "      hashh=dict()\n",
    "      for i in range(len(nums)):\n",
    "        hashh[nums[i] - target] = i\n",
    "      for i in range(len(nums)):\n",
    "        if(-nums[i] in hashh and hashh[-nums[i]] != i):\n",
    "          return [i, hashh[-nums[i]]]"
   ]
  },
  {
   "cell_type": "code",
   "execution_count": 5,
   "metadata": {},
   "outputs": [
    {
     "name": "stdout",
     "output_type": "stream",
     "text": [
      "Array Input:2,7,11,15\n",
      "Target:9\n",
      "[0, 1]\n",
      "[0, 1]\n"
     ]
    }
   ],
   "source": [
    "inp=input(\"Array Input:\").split(',')\n",
    "k=int(input(\"Target:\"))\n",
    "for i in range (len(inp)):\n",
    "    inp[i]=int(inp[i])\n",
    "print(twoSum1(inp,k))\n",
    "print(twoSum(inp,k))"
   ]
  },
  {
   "cell_type": "markdown",
   "metadata": {},
   "source": [
    "### Thanks, \n",
    "\n",
    "### Shubham Sagar\n",
    "\n",
    "### DM for any assist: www.instagaram.com/shubhamthrills"
   ]
  }
 ],
 "metadata": {
  "kernelspec": {
   "display_name": "Python 3",
   "language": "python",
   "name": "python3"
  },
  "language_info": {
   "codemirror_mode": {
    "name": "ipython",
    "version": 3
   },
   "file_extension": ".py",
   "mimetype": "text/x-python",
   "name": "python",
   "nbconvert_exporter": "python",
   "pygments_lexer": "ipython3",
   "version": "3.7.4"
  }
 },
 "nbformat": 4,
 "nbformat_minor": 2
}
