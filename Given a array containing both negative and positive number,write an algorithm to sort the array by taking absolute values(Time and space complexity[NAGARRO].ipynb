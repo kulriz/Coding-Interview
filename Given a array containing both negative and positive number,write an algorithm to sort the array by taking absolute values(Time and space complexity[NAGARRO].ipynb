{
 "cells": [
  {
   "cell_type": "markdown",
   "metadata": {},
   "source": [
    "# Question:\n",
    "    Given a array containing both negative and positive number,write an algorithm to sort the array by taking absolute values?\n",
    "    Note:\n",
    "    1. Time complexity  : O(n*log(n))\n",
    "    2. Space complexity : O(n)"
   ]
  },
  {
   "cell_type": "code",
   "execution_count": 23,
   "metadata": {},
   "outputs": [],
   "source": [
    "def mergeSort(myList):\n",
    "    if len(myList) > 1:\n",
    "        mid = len(myList) // 2\n",
    "        left = myList[:mid]\n",
    "        right = myList[mid:]\n",
    "\n",
    "        #Recursive call on each half\n",
    "        mergeSort(left)\n",
    "        mergeSort(right)\n",
    "\n",
    "        #Two iterators for traversing the two halves\n",
    "        i = 0\n",
    "        j = 0\n",
    "        \n",
    "        #Iterator for the main list\n",
    "        k = 0\n",
    "        \n",
    "        while (i < len(left) and j < len(right)):\n",
    "            if left[i] < right[j]:\n",
    "              # The value from the left half has been used\n",
    "              myList[k] = left[i]\n",
    "              # Move the iterator forward\n",
    "              i += 1\n",
    "            else:\n",
    "                myList[k] = right[j]\n",
    "                j += 1\n",
    "            # Move to the next slot\n",
    "            k += 1\n",
    "\n",
    "        #For all the remaining values\n",
    "        while (i < len(left)):\n",
    "            myList[k] = left[i]\n",
    "            i += 1\n",
    "            k += 1\n",
    "\n",
    "        while (j < len(right)):\n",
    "            myList[k]=right[j]\n",
    "            j += 1\n",
    "            k += 1"
   ]
  },
  {
   "cell_type": "code",
   "execution_count": 26,
   "metadata": {},
   "outputs": [
    {
     "name": "stdout",
     "output_type": "stream",
     "text": [
      "Enter the elements:-8 -6 -3 1 9 5\n",
      "List element: ['-8', '-6', '-3', '1', '9', '5']\n",
      "List with absolute value: [8, 6, 3, 1, 9, 5]\n",
      "List after sorting with absolute value: [1, 3, 5, 6, 8, 9]\n"
     ]
    }
   ],
   "source": [
    "l=input(\"Enter the elements:\").split(' ')\n",
    "print(\"List element:\",l)\n",
    "for i in range (len(l)):\n",
    "    if(int(l[i])<0):\n",
    "        l[i]=int(l[i])*(-1)\n",
    "    else:\n",
    "        l[i]=int(l[i])\n",
    "print(\"List with absolute value:\",l)        \n",
    "mergeSort(l)\n",
    "print(\"List after sorting with absolute value:\",l)"
   ]
  },
  {
   "cell_type": "markdown",
   "metadata": {},
   "source": [
    "### Thanks, \n",
    "\n",
    "### Shubham Sagar\n",
    "\n",
    "### DM for any assist: www.instagaram.com/shubhamthrills"
   ]
  }
 ],
 "metadata": {
  "kernelspec": {
   "display_name": "Python 3",
   "language": "python",
   "name": "python3"
  },
  "language_info": {
   "codemirror_mode": {
    "name": "ipython",
    "version": 3
   },
   "file_extension": ".py",
   "mimetype": "text/x-python",
   "name": "python",
   "nbconvert_exporter": "python",
   "pygments_lexer": "ipython3",
   "version": "3.7.4"
  }
 },
 "nbformat": 4,
 "nbformat_minor": 2
}
