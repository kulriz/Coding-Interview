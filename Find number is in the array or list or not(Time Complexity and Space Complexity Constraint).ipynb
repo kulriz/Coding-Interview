{
 "cells": [
  {
   "cell_type": "markdown",
   "metadata": {},
   "source": [
    "# Question:\n",
    "    An array/list havinng 100 number is provided we need to write a function which will return '1' if element Q(provided by user) is present in array/list else it will return '0' \n",
    "    \n",
    "    1. Array/List is sorted.\n",
    "    2. Time complexity  : O(log(n)) , O(N) [BOTH]\n",
    "    3. Space complexity : O(1)"
   ]
  },
  {
   "cell_type": "code",
   "execution_count": 47,
   "metadata": {},
   "outputs": [],
   "source": [
    "# COMPLEXITY:O(log(N))\n",
    "# --------------------\n",
    "def BinarySearchAlgo(l,q,le,first,last):\n",
    "    while(first<=last):\n",
    "        mid = (first + last)//2\n",
    "        if l[mid]==q :\n",
    "            return (\"1\")\n",
    "        else:\n",
    "            if q<l[mid]:\n",
    "                last=mid-1\n",
    "            else:\n",
    "                first=mid+1\n",
    "    return (\"0\")"
   ]
  },
  {
   "cell_type": "code",
   "execution_count": 48,
   "metadata": {},
   "outputs": [],
   "source": [
    "# COMPLEXITY:O(N)\n",
    "# ---------------\n",
    "def EveryElemntSearch(l,q,le):\n",
    "    for i in range(le):\n",
    "        if(int(l[i])==q):\n",
    "            return (\"1\")\n",
    "    return (\"0\")"
   ]
  },
  {
   "cell_type": "code",
   "execution_count": 49,
   "metadata": {},
   "outputs": [
    {
     "name": "stdout",
     "output_type": "stream",
     "text": [
      "[0, 1, 2, 3, 4, 5, 6, 7, 8, 9, 10, 11, 12, 13, 14, 15, 16, 17, 18, 19, 20, 21, 22, 23, 24, 25, 26, 27, 28, 29, 30, 31, 32, 33, 34, 35, 36, 37, 38, 39, 40, 41, 42, 43, 44, 45, 46, 47, 48, 49, 50, 51, 52, 53, 54, 55, 56, 57, 58, 59, 60, 61, 62, 63, 64, 65, 66, 67, 68, 69, 70, 71, 72, 73, 74, 75, 76, 77, 78, 79, 80, 81, 82, 83, 84, 85, 86, 87, 88, 89, 90, 91, 92, 93, 94, 95, 96, 97, 98, 99]\n",
      "Enter the search Key:99\n",
      "1\n",
      "1\n"
     ]
    }
   ],
   "source": [
    "#import random\n",
    "a=list(range(100))\n",
    "#random.shuffle(a)\n",
    "print(a)\n",
    "le=len(a)\n",
    "q=int(input(\"Enter the search Key:\"))\n",
    "start=0\n",
    "end=le-1\n",
    "print(EveryElemntSearch(a,q,le))\n",
    "print(BinarySearchAlgo(a,q,le,start,end))"
   ]
  },
  {
   "cell_type": "markdown",
   "metadata": {},
   "source": [
    "### Thanks, \n",
    "\n",
    "### Shubham Sagar\n",
    "\n",
    "### DM for any assist: www.instagaram.com/shubhamthrills"
   ]
  }
 ],
 "metadata": {
  "kernelspec": {
   "display_name": "Python 3",
   "language": "python",
   "name": "python3"
  },
  "language_info": {
   "codemirror_mode": {
    "name": "ipython",
    "version": 3
   },
   "file_extension": ".py",
   "mimetype": "text/x-python",
   "name": "python",
   "nbconvert_exporter": "python",
   "pygments_lexer": "ipython3",
   "version": "3.7.4"
  }
 },
 "nbformat": 4,
 "nbformat_minor": 2
}
