{
 "cells": [
  {
   "cell_type": "markdown",
   "metadata": {},
   "source": [
    "## QUESTION\n",
    "Given an integer N, count and return the number of zeros that are present in the given integer using recursion?\n",
    "Space Complexity:O(1) Time Complexity: -\n",
    "\n",
    "## Sample Input / Output\n",
    "Input: 10204\n",
    "Output: 2"
   ]
  },
  {
   "cell_type": "code",
   "execution_count": 1,
   "metadata": {},
   "outputs": [],
   "source": [
    "def zeroCount(num):\n",
    "    if(num == 0):\n",
    "        return 0\n",
    "    if(num%10 == 0):\n",
    "        return (1 + zeroCount(num // 10))\n",
    "    else:\n",
    "        return zeroCount(num//10)        "
   ]
  },
  {
   "cell_type": "code",
   "execution_count": 3,
   "metadata": {},
   "outputs": [
    {
     "name": "stdout",
     "output_type": "stream",
     "text": [
      "10204\n",
      "Number of zero is/are: 2\n"
     ]
    }
   ],
   "source": [
    "n=int(input())\n",
    "print(\"Number of zero is/are:\",zeroCount(n))"
   ]
  },
  {
   "cell_type": "markdown",
   "metadata": {},
   "source": [
    "### Thanks, \n",
    "\n",
    "### Shubham Sagar\n",
    "\n",
    "### DM for any assist: www.instagaram.com/shubhamthrills"
   ]
  }
 ],
 "metadata": {
  "kernelspec": {
   "display_name": "Python 3",
   "language": "python",
   "name": "python3"
  },
  "language_info": {
   "codemirror_mode": {
    "name": "ipython",
    "version": 3
   },
   "file_extension": ".py",
   "mimetype": "text/x-python",
   "name": "python",
   "nbconvert_exporter": "python",
   "pygments_lexer": "ipython3",
   "version": "3.7.4"
  }
 },
 "nbformat": 4,
 "nbformat_minor": 2
}
